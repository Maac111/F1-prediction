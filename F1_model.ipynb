{
 "cells": [
  {
   "cell_type": "code",
   "execution_count": 1,
   "id": "9857e062",
   "metadata": {},
   "outputs": [],
   "source": [
    "import pandas as pd\n",
    "import ydata_profiling"
   ]
  },
  {
   "cell_type": "code",
   "execution_count": 2,
   "id": "5b834fe2",
   "metadata": {},
   "outputs": [],
   "source": [
    "pd.set_option('display.max_columns', None)"
   ]
  },
  {
   "cell_type": "code",
   "execution_count": 3,
   "id": "276b6687",
   "metadata": {},
   "outputs": [],
   "source": [
    "results = pd.read_csv(r\"data/results.csv\")\n",
    "races = pd.read_csv(r\"data/races.csv\")\n",
    "drivers = pd.read_csv(r\"data/drivers.csv\")\n",
    "driver_standings = pd.read_csv(r\"data/driver_standings.csv\")\n",
    "constructors = pd.read_csv(r\"data/constructors.csv\")\n",
    "constructor_standings = pd.read_csv(r\"data/constructor_standings.csv\")\n",
    "constructor_results = pd.read_csv(r\"data/constructor_results.csv\")\n",
    "pit_stops = pd.read_csv(r\"data/pit_stops.csv\")\n",
    "status = pd.read_csv(r\"data/status.csv\")\n",
    "seasons = pd.read_csv(r\"data/seasons.csv\")\n",
    "\n",
    "circuits = pd.read_csv(r\"data/circuits.csv\")\n",
    "lap_times = pd.read_csv(r\"data/lap_times.csv\")\n",
    "qualifying = pd.read_csv(r\"data/qualifying.csv\")\n",
    "sprint_results = pd.read_csv(r\"data/sprint_results.csv\")"
   ]
  },
  {
   "cell_type": "code",
   "execution_count": 4,
   "id": "be2d0bbd",
   "metadata": {},
   "outputs": [
    {
     "name": "stdout",
     "output_type": "stream",
     "text": [
      "\n",
      "Drivers:\n",
      "driverId         0\n",
      "driverRef        0\n",
      "number         802\n",
      "code           757\n",
      "forename         0\n",
      "surname          0\n",
      "dob              0\n",
      "nationality      0\n",
      "url              0\n",
      "dtype: int64\n",
      "\n",
      "Races:\n",
      "raceId            0\n",
      "year              0\n",
      "round             0\n",
      "circuitId         0\n",
      "name              0\n",
      "date              0\n",
      "time            731\n",
      "url               0\n",
      "fp1_date       1035\n",
      "fp1_time       1057\n",
      "fp2_date       1035\n",
      "fp2_time       1057\n",
      "fp3_date       1053\n",
      "fp3_time       1072\n",
      "quali_date     1035\n",
      "quali_time     1057\n",
      "sprint_date    1107\n",
      "sprint_time    1110\n",
      "dtype: int64\n",
      "\n",
      "Results:\n",
      "resultId               0\n",
      "raceId                 0\n",
      "driverId               0\n",
      "constructorId          0\n",
      "number                 6\n",
      "grid                   0\n",
      "position           10916\n",
      "positionText           0\n",
      "positionOrder          0\n",
      "points                 0\n",
      "laps                   0\n",
      "time               18931\n",
      "milliseconds       18931\n",
      "fastestLap         18478\n",
      "rank               18249\n",
      "fastestLapTime     18478\n",
      "fastestLapSpeed    18478\n",
      "statusId               0\n",
      "dtype: int64\n",
      "\n",
      "Constructor_results:\n",
      "constructorResultsId        0\n",
      "raceId                      0\n",
      "constructorId               0\n",
      "points                      0\n",
      "status                  12428\n",
      "dtype: int64\n",
      "\n",
      "Qualifying:\n",
      "qualifyId           0\n",
      "raceId              0\n",
      "driverId            0\n",
      "constructorId       0\n",
      "number              0\n",
      "position            0\n",
      "q1                153\n",
      "q2               4546\n",
      "q3               6661\n",
      "dtype: int64\n",
      "\n",
      "Sprint_results:\n",
      "resultId           0\n",
      "raceId             0\n",
      "driverId           0\n",
      "constructorId      0\n",
      "number             0\n",
      "grid               0\n",
      "position          15\n",
      "positionText       0\n",
      "positionOrder      0\n",
      "points             0\n",
      "laps               0\n",
      "time              19\n",
      "milliseconds      19\n",
      "fastestLap         9\n",
      "fastestLapTime     9\n",
      "statusId           0\n",
      "dtype: int64\n"
     ]
    }
   ],
   "source": [
    "print('\\nDrivers:')\n",
    "print((drivers == \"\\\\N\").sum())\n",
    "print('\\nRaces:')\n",
    "print((races == \"\\\\N\").sum())\n",
    "print('\\nResults:')\n",
    "print((results == \"\\\\N\").sum())\n",
    "print('\\nConstructor_results:')\n",
    "print((constructor_results == \"\\\\N\").sum())\n",
    "print('\\nQualifying:')\n",
    "print((qualifying == \"\\\\N\").sum())\n",
    "print('\\nSprint_results:')\n",
    "print((sprint_results == \"\\\\N\").sum())\n",
    "\n",
    "# W pozostałych zbiorach nie ma pustych wartości:\n",
    "# print((circuits == \"\\\\N\").sum())\n",
    "# print((constructor_standings == \"\\\\N\").sum())\n",
    "# print((constructors == \"\\\\N\").sum())\n",
    "# print((driver_standings == \"\\\\N\").sum())\n",
    "# print((lap_times == \"\\\\N\").sum())\n",
    "# print((pit_stops == \"\\\\N\").sum())\n",
    "# print((seasons == \"\\\\N\").sum())\n",
    "# print((status == \"\\\\N\").sum())"
   ]
  },
  {
   "cell_type": "code",
   "execution_count": 5,
   "id": "e545a648",
   "metadata": {
    "scrolled": true
   },
   "outputs": [],
   "source": [
    "# Stworzenie zmiennej z punktami/rankingiem teamu przed danym wyścigiem\n",
    "\n",
    "constructor_standings = constructor_standings.sort_values(by='raceId')\n",
    "constructor_standings['points_before'] = constructor_standings.groupby('constructorId')['points'].shift(1)\n",
    "constructor_standings['ranking_before'] = constructor_standings.groupby('constructorId')['position'].shift(1)\n",
    "constructor_standings.dropna(inplace=True)\n",
    "constructor_standings['points_before']=constructor_standings['points_before'].astype(int)\n",
    "constructor_standings['ranking_before']=constructor_standings['ranking_before'].astype(int)\n",
    "constructor_standings = constructor_standings[['raceId','constructorId','points_before','ranking_before']]"
   ]
  },
  {
   "cell_type": "code",
   "execution_count": 6,
   "id": "910bd2e9",
   "metadata": {},
   "outputs": [
    {
     "data": {
      "text/html": [
       "<div>\n",
       "<style scoped>\n",
       "    .dataframe tbody tr th:only-of-type {\n",
       "        vertical-align: middle;\n",
       "    }\n",
       "\n",
       "    .dataframe tbody tr th {\n",
       "        vertical-align: top;\n",
       "    }\n",
       "\n",
       "    .dataframe thead th {\n",
       "        text-align: right;\n",
       "    }\n",
       "</style>\n",
       "<table border=\"1\" class=\"dataframe\">\n",
       "  <thead>\n",
       "    <tr style=\"text-align: right;\">\n",
       "      <th></th>\n",
       "      <th>raceId</th>\n",
       "      <th>constructorId</th>\n",
       "      <th>points_before</th>\n",
       "      <th>ranking_before</th>\n",
       "    </tr>\n",
       "  </thead>\n",
       "  <tbody>\n",
       "    <tr>\n",
       "      <th>3676</th>\n",
       "      <td>2</td>\n",
       "      <td>9</td>\n",
       "      <td>0</td>\n",
       "      <td>8</td>\n",
       "    </tr>\n",
       "    <tr>\n",
       "      <th>3684</th>\n",
       "      <td>2</td>\n",
       "      <td>23</td>\n",
       "      <td>18</td>\n",
       "      <td>1</td>\n",
       "    </tr>\n",
       "    <tr>\n",
       "      <th>3682</th>\n",
       "      <td>2</td>\n",
       "      <td>7</td>\n",
       "      <td>11</td>\n",
       "      <td>2</td>\n",
       "    </tr>\n",
       "    <tr>\n",
       "      <th>3675</th>\n",
       "      <td>2</td>\n",
       "      <td>6</td>\n",
       "      <td>0</td>\n",
       "      <td>9</td>\n",
       "    </tr>\n",
       "    <tr>\n",
       "      <th>3680</th>\n",
       "      <td>2</td>\n",
       "      <td>3</td>\n",
       "      <td>3</td>\n",
       "      <td>4</td>\n",
       "    </tr>\n",
       "    <tr>\n",
       "      <th>...</th>\n",
       "      <td>...</td>\n",
       "      <td>...</td>\n",
       "      <td>...</td>\n",
       "      <td>...</td>\n",
       "    </tr>\n",
       "    <tr>\n",
       "      <th>13205</th>\n",
       "      <td>1126</td>\n",
       "      <td>117</td>\n",
       "      <td>40</td>\n",
       "      <td>5</td>\n",
       "    </tr>\n",
       "    <tr>\n",
       "      <th>13206</th>\n",
       "      <td>1126</td>\n",
       "      <td>15</td>\n",
       "      <td>0</td>\n",
       "      <td>10</td>\n",
       "    </tr>\n",
       "    <tr>\n",
       "      <th>13207</th>\n",
       "      <td>1126</td>\n",
       "      <td>210</td>\n",
       "      <td>5</td>\n",
       "      <td>7</td>\n",
       "    </tr>\n",
       "    <tr>\n",
       "      <th>13208</th>\n",
       "      <td>1126</td>\n",
       "      <td>215</td>\n",
       "      <td>7</td>\n",
       "      <td>6</td>\n",
       "    </tr>\n",
       "    <tr>\n",
       "      <th>13210</th>\n",
       "      <td>1126</td>\n",
       "      <td>214</td>\n",
       "      <td>0</td>\n",
       "      <td>9</td>\n",
       "    </tr>\n",
       "  </tbody>\n",
       "</table>\n",
       "<p>13051 rows × 4 columns</p>\n",
       "</div>"
      ],
      "text/plain": [
       "       raceId  constructorId  points_before  ranking_before\n",
       "3676        2              9              0               8\n",
       "3684        2             23             18               1\n",
       "3682        2              7             11               2\n",
       "3675        2              6              0               9\n",
       "3680        2              3              3               4\n",
       "...       ...            ...            ...             ...\n",
       "13205    1126            117             40               5\n",
       "13206    1126             15              0              10\n",
       "13207    1126            210              5               7\n",
       "13208    1126            215              7               6\n",
       "13210    1126            214              0               9\n",
       "\n",
       "[13051 rows x 4 columns]"
      ]
     },
     "execution_count": 6,
     "metadata": {},
     "output_type": "execute_result"
    }
   ],
   "source": [
    "constructor_standings"
   ]
  },
  {
   "cell_type": "code",
   "execution_count": 7,
   "id": "26adbf71",
   "metadata": {},
   "outputs": [],
   "source": [
    "# Stworzenie zmiennej z punktami/rankingiem kierowcy przed danym wyścigiem\n",
    "\n",
    "driver_standings = driver_standings.sort_values(by='raceId')\n",
    "driver_standings['points_before'] = driver_standings.groupby('driverId')['points'].shift(1)\n",
    "driver_standings['ranking_before'] = driver_standings.groupby('driverId')['position'].shift(1)\n",
    "driver_standings.dropna(inplace=True)\n",
    "driver_standings['points_before']=driver_standings['points_before'].astype(int)\n",
    "driver_standings['ranking_before']=driver_standings['ranking_before'].astype(int)"
   ]
  },
  {
   "cell_type": "code",
   "execution_count": 8,
   "id": "cf46086a",
   "metadata": {
    "scrolled": true
   },
   "outputs": [],
   "source": [
    "# Stworzenie zmiennej ze średnim czasem trwania pit-stopu w sezonie dla poszczególnych teamów\n",
    "\n",
    "pit_stops_merged = pd.merge(pit_stops, results, on = ['driverId','raceId'], how = 'left')\n",
    "pit_stops_merged = pd.merge(pit_stops_merged, races, on = ['raceId'], how = 'left')\n",
    "pit_stops_merged = pit_stops_merged[['raceId','constructorId','duration','year']]\n",
    "pit_stops_merged['duration'] = pd.to_numeric(pit_stops_merged['duration'], errors='coerce')\n",
    "pit_stops_merged['avg_season_duration'] = pit_stops_merged.groupby(['constructorId', 'year'])['duration'].transform('mean')\n",
    "pit_stops_merged = pit_stops_merged[['year','constructorId','avg_season_duration']]\n",
    "pit_stops_merged = pit_stops_merged.drop_duplicates()"
   ]
  },
  {
   "cell_type": "code",
   "execution_count": 9,
   "id": "3033abc4",
   "metadata": {
    "scrolled": true
   },
   "outputs": [
    {
     "data": {
      "text/html": [
       "<div>\n",
       "<style scoped>\n",
       "    .dataframe tbody tr th:only-of-type {\n",
       "        vertical-align: middle;\n",
       "    }\n",
       "\n",
       "    .dataframe tbody tr th {\n",
       "        vertical-align: top;\n",
       "    }\n",
       "\n",
       "    .dataframe thead th {\n",
       "        text-align: right;\n",
       "    }\n",
       "</style>\n",
       "<table border=\"1\" class=\"dataframe\">\n",
       "  <thead>\n",
       "    <tr style=\"text-align: right;\">\n",
       "      <th></th>\n",
       "      <th>year</th>\n",
       "      <th>constructorId</th>\n",
       "      <th>avg_season_duration</th>\n",
       "    </tr>\n",
       "  </thead>\n",
       "  <tbody>\n",
       "    <tr>\n",
       "      <th>10578</th>\n",
       "      <td>2024</td>\n",
       "      <td>1</td>\n",
       "      <td>22.434800</td>\n",
       "    </tr>\n",
       "    <tr>\n",
       "      <th>10550</th>\n",
       "      <td>2024</td>\n",
       "      <td>3</td>\n",
       "      <td>23.691211</td>\n",
       "    </tr>\n",
       "    <tr>\n",
       "      <th>10552</th>\n",
       "      <td>2024</td>\n",
       "      <td>6</td>\n",
       "      <td>21.888706</td>\n",
       "    </tr>\n",
       "    <tr>\n",
       "      <th>10554</th>\n",
       "      <td>2024</td>\n",
       "      <td>9</td>\n",
       "      <td>22.328842</td>\n",
       "    </tr>\n",
       "    <tr>\n",
       "      <th>10547</th>\n",
       "      <td>2024</td>\n",
       "      <td>15</td>\n",
       "      <td>26.523905</td>\n",
       "    </tr>\n",
       "    <tr>\n",
       "      <th>10548</th>\n",
       "      <td>2024</td>\n",
       "      <td>117</td>\n",
       "      <td>22.919609</td>\n",
       "    </tr>\n",
       "    <tr>\n",
       "      <th>10551</th>\n",
       "      <td>2024</td>\n",
       "      <td>131</td>\n",
       "      <td>22.246316</td>\n",
       "    </tr>\n",
       "    <tr>\n",
       "      <th>10546</th>\n",
       "      <td>2024</td>\n",
       "      <td>210</td>\n",
       "      <td>23.899478</td>\n",
       "    </tr>\n",
       "    <tr>\n",
       "      <th>10549</th>\n",
       "      <td>2024</td>\n",
       "      <td>214</td>\n",
       "      <td>24.166955</td>\n",
       "    </tr>\n",
       "    <tr>\n",
       "      <th>10560</th>\n",
       "      <td>2024</td>\n",
       "      <td>215</td>\n",
       "      <td>22.021375</td>\n",
       "    </tr>\n",
       "  </tbody>\n",
       "</table>\n",
       "</div>"
      ],
      "text/plain": [
       "       year  constructorId  avg_season_duration\n",
       "10578  2024              1            22.434800\n",
       "10550  2024              3            23.691211\n",
       "10552  2024              6            21.888706\n",
       "10554  2024              9            22.328842\n",
       "10547  2024             15            26.523905\n",
       "10548  2024            117            22.919609\n",
       "10551  2024            131            22.246316\n",
       "10546  2024            210            23.899478\n",
       "10549  2024            214            24.166955\n",
       "10560  2024            215            22.021375"
      ]
     },
     "execution_count": 9,
     "metadata": {},
     "output_type": "execute_result"
    }
   ],
   "source": [
    "pit_stops_merged.loc[pit_stops_merged['year']==2024].sort_values(by='constructorId')"
   ]
  },
  {
   "cell_type": "code",
   "execution_count": 10,
   "id": "6d2aaaac",
   "metadata": {
    "scrolled": true
   },
   "outputs": [],
   "source": [
    "# Łączenie zbiorów i usuwanie niepotrzebnych/zduplikowanych kolumn\n",
    "\n",
    "merged_df = pd.merge(results, status, on = 'statusId', how = 'left')\n",
    "merged_df = pd.merge(merged_df, drivers, on = 'driverId', how = 'left')\n",
    "merged_df = pd.merge(merged_df, races, on = 'raceId', how = 'left')\n",
    "merged_df = pd.merge(merged_df, constructors, on = 'constructorId', how = 'left')\n",
    "merged_df = pd.merge(merged_df, driver_standings, on = ['driverId','raceId'], how = 'left')\n",
    "merged_df = pd.merge(merged_df, pit_stops_merged, on = ['year','constructorId'], how = 'left')\n",
    "merged_df = pd.merge(merged_df, constructor_standings, on = ['raceId','constructorId'], how = 'left')\n",
    "merged_df = merged_df.drop(['driverRef','number_y','number_x','code','dob','nationality_x','url_x','round'\n",
    "                            ,'time_y','url_y','constructorRef','nationality_y','url','fp1_date'\n",
    "                           ,'fp1_time','fp2_date','fp2_time','fp3_date','fp3_time','quali_date'\n",
    "                           ,'quali_time','sprint_date','sprint_time','position_x','fastestLap'\n",
    "                           ,'fastestLapTime','rank','fastestLapSpeed','driverStandingsId'\n",
    "                             ,'points_y','position_y','positionText_y','wins'], axis = 1)"
   ]
  },
  {
   "cell_type": "code",
   "execution_count": 11,
   "id": "290a7519",
   "metadata": {},
   "outputs": [],
   "source": [
    "# Uporządkowanie kolumn i zmiana nazw\n",
    "order = ['resultId','raceId','name_x','year','date','driverId','forename','surname','constructorId','name_y','avg_season_duration','grid'\n",
    "        ,'positionText_x','positionOrder','points_x','points_before_x','ranking_before_x','points_before_y','ranking_before_y','laps','time_x','milliseconds'\n",
    "        ,'statusId','status','circuitId']\n",
    "merged_df = merged_df[order]\n",
    "merged_df = merged_df.rename(columns={'name_x':'race_name','date':'race_date','name_y':'constructor_name','grid':'start_position'\n",
    "                                     ,'time_x':'time','rank':'fastest_lap_rank','positionOrder':'end_position','points_before_x':'driver_ranking_points_before_race'\n",
    "                                     ,'ranking_before_x':'driver_ranking_before_race','positionText_x':'end_positionText','points_x':'points','avg_season_duration':'avg_season_pit_stop_duration'\n",
    "                                     ,'ranking_before_y':'constructor_ranking_before_race','points_before_y':'constructor_ranking_points_before_race'})"
   ]
  },
  {
   "cell_type": "code",
   "execution_count": 12,
   "id": "a7b0034c",
   "metadata": {
    "scrolled": true
   },
   "outputs": [
    {
     "data": {
      "text/plain": [
       "resultId                                      0\n",
       "raceId                                        0\n",
       "race_name                                     0\n",
       "year                                          0\n",
       "race_date                                     0\n",
       "driverId                                      0\n",
       "forename                                      0\n",
       "surname                                       0\n",
       "constructorId                                 0\n",
       "constructor_name                              0\n",
       "avg_season_pit_stop_duration                  0\n",
       "start_position                                0\n",
       "end_positionText                              0\n",
       "end_position                                  0\n",
       "points                                        0\n",
       "driver_ranking_points_before_race             0\n",
       "driver_ranking_before_race                    0\n",
       "constructor_ranking_points_before_race        0\n",
       "constructor_ranking_before_race               0\n",
       "laps                                          0\n",
       "time                                      18931\n",
       "milliseconds                              18931\n",
       "statusId                                      0\n",
       "status                                        0\n",
       "circuitId                                     0\n",
       "dtype: int64"
      ]
     },
     "execution_count": 12,
     "metadata": {},
     "output_type": "execute_result"
    }
   ],
   "source": [
    "(merged_df == \"\\\\N\").sum()"
   ]
  },
  {
   "cell_type": "code",
   "execution_count": 13,
   "id": "40a9956d",
   "metadata": {},
   "outputs": [
    {
     "data": {
      "text/plain": [
       "status\n",
       "Finished          7463\n",
       "+1 Lap            3944\n",
       "Engine            2022\n",
       "+2 Laps           1600\n",
       "Accident          1057\n",
       "                  ... \n",
       "Launch control       1\n",
       "Tyre puncture        1\n",
       "+26 Laps             1\n",
       "CV joint             1\n",
       "Crankshaft           1\n",
       "Name: count, Length: 137, dtype: int64"
      ]
     },
     "execution_count": 13,
     "metadata": {},
     "output_type": "execute_result"
    }
   ],
   "source": [
    "merged_df['status'].value_counts()\n",
    "# Można pomyśleć czy bierzemy tylko Finished"
   ]
  },
  {
   "cell_type": "code",
   "execution_count": 14,
   "id": "a47b4a34",
   "metadata": {},
   "outputs": [
    {
     "data": {
      "text/plain": [
       "resultId                                  0\n",
       "raceId                                    0\n",
       "race_name                                 0\n",
       "year                                      0\n",
       "race_date                                 0\n",
       "driverId                                  0\n",
       "forename                                  0\n",
       "surname                                   0\n",
       "constructorId                             0\n",
       "constructor_name                          0\n",
       "avg_season_pit_stop_duration              0\n",
       "start_position                            0\n",
       "end_positionText                          0\n",
       "end_position                              0\n",
       "points                                    0\n",
       "driver_ranking_points_before_race         0\n",
       "driver_ranking_before_race                0\n",
       "constructor_ranking_points_before_race    0\n",
       "constructor_ranking_before_race           0\n",
       "laps                                      0\n",
       "time                                      0\n",
       "milliseconds                              0\n",
       "statusId                                  0\n",
       "status                                    0\n",
       "circuitId                                 0\n",
       "dtype: int64"
      ]
     },
     "execution_count": 14,
     "metadata": {},
     "output_type": "execute_result"
    }
   ],
   "source": [
    "merged_df = merged_df.loc[merged_df['status']=='Finished']\n",
    "merged_df = merged_df.loc[merged_df['year']>=2014]\n",
    "merged_df = merged_df.loc[merged_df['start_position']!=0] #\n",
    "merged_df.dropna(inplace=True)\n",
    "merged_df['driver_ranking_points_before_race'] = merged_df['driver_ranking_points_before_race'].astype(int)\n",
    "merged_df['driver_ranking_before_race'] = merged_df['driver_ranking_before_race'].astype(int)\n",
    "merged_df['constructor_ranking_points_before_race'] = merged_df['constructor_ranking_points_before_race'].astype(int)\n",
    "merged_df['constructor_ranking_before_race'] = merged_df['constructor_ranking_before_race'].astype(int)\n",
    "(merged_df == \"\\\\N\").sum()"
   ]
  },
  {
   "cell_type": "code",
   "execution_count": 15,
   "id": "df1033b9",
   "metadata": {},
   "outputs": [
    {
     "name": "stdout",
     "output_type": "stream",
     "text": [
      "<class 'pandas.core.frame.DataFrame'>\n",
      "Index: 2157 entries, 22127 to 26397\n",
      "Data columns (total 25 columns):\n",
      " #   Column                                  Non-Null Count  Dtype  \n",
      "---  ------                                  --------------  -----  \n",
      " 0   resultId                                2157 non-null   int64  \n",
      " 1   raceId                                  2157 non-null   int64  \n",
      " 2   race_name                               2157 non-null   object \n",
      " 3   year                                    2157 non-null   int64  \n",
      " 4   race_date                               2157 non-null   object \n",
      " 5   driverId                                2157 non-null   int64  \n",
      " 6   forename                                2157 non-null   object \n",
      " 7   surname                                 2157 non-null   object \n",
      " 8   constructorId                           2157 non-null   int64  \n",
      " 9   constructor_name                        2157 non-null   object \n",
      " 10  avg_season_pit_stop_duration            2157 non-null   float64\n",
      " 11  start_position                          2157 non-null   int64  \n",
      " 12  end_positionText                        2157 non-null   object \n",
      " 13  end_position                            2157 non-null   int64  \n",
      " 14  points                                  2157 non-null   float64\n",
      " 15  driver_ranking_points_before_race       2157 non-null   int32  \n",
      " 16  driver_ranking_before_race              2157 non-null   int32  \n",
      " 17  constructor_ranking_points_before_race  2157 non-null   int32  \n",
      " 18  constructor_ranking_before_race         2157 non-null   int32  \n",
      " 19  laps                                    2157 non-null   int64  \n",
      " 20  time                                    2157 non-null   object \n",
      " 21  milliseconds                            2157 non-null   object \n",
      " 22  statusId                                2157 non-null   int64  \n",
      " 23  status                                  2157 non-null   object \n",
      " 24  circuitId                               2157 non-null   int64  \n",
      "dtypes: float64(2), int32(4), int64(10), object(9)\n",
      "memory usage: 404.4+ KB\n"
     ]
    }
   ],
   "source": [
    "# for col in merged_df.columns:\n",
    "merged_df.info()"
   ]
  },
  {
   "cell_type": "code",
   "execution_count": 16,
   "id": "880daf1a",
   "metadata": {},
   "outputs": [
    {
     "data": {
      "text/plain": [
       "count    2.157000e+03\n",
       "mean    -7.642370e-16\n",
       "std      1.348958e+02\n",
       "min     -4.010000e+02\n",
       "25%     -8.015385e+01\n",
       "50%     -1.635294e+01\n",
       "75%      5.811111e+01\n",
       "max      5.692941e+02\n",
       "Name: constructor_ranking_points_before_race_relative, dtype: float64"
      ]
     },
     "execution_count": 16,
     "metadata": {},
     "output_type": "execute_result"
    }
   ],
   "source": [
    "model_df = merged_df.drop([\"race_name\", \"forename\", \"surname\",\"status\",\"end_positionText\",\"constructor_name\", \"status\", \"statusId\"], axis = 1)\n",
    "# constructor_ranking_points_before_race, driver_ranking_points_before_race - to transform\n",
    "\n",
    "# model_df[\"constructor_ranking_points_before_race_mean\"] =  model_df.groupby(\"raceId\")[\"constructor_ranking_points_before_race\"].mean()\n",
    "model_df[\"constructor_ranking_points_before_race_mean\"] = model_df.groupby(\"raceId\")[\"constructor_ranking_points_before_race\"].transform('mean')\n",
    "model_df[\"constructor_ranking_points_before_race_relative\"] = model_df[\"constructor_ranking_points_before_race\"] - model_df[\"constructor_ranking_points_before_race_mean\"]\n",
    "model_df[\"constructor_ranking_points_before_race_relative\"].describe()"
   ]
  },
  {
   "cell_type": "code",
   "execution_count": 17,
   "id": "5b4fa3a9",
   "metadata": {},
   "outputs": [
    {
     "data": {
      "image/png": "[encoded data removed]",
      "text/plain": [
       "<Figure size 640x480 with 1 Axes>"
      ]
     },
     "metadata": {},
     "output_type": "display_data"
    }
   ],
   "source": [
    "from matplotlib import pyplot as plt\n",
    "\n",
    "plt.hist(model_df[\"constructor_ranking_points_before_race_relative\"])\n",
    "plt.show()"
   ]
  },
  {
   "cell_type": "markdown",
   "id": "5bad8237",
   "metadata": {},
   "source": [
    "\n",
    "merged_df"
   ]
  },
  {
   "cell_type": "code",
   "execution_count": 18,
   "id": "b0b5c109",
   "metadata": {},
   "outputs": [
    {
     "ename": "NameError",
     "evalue": "name 'profile' is not defined",
     "output_type": "error",
     "traceback": [
      "\u001b[1;31m---------------------------------------------------------------------------\u001b[0m",
      "\u001b[1;31mNameError\u001b[0m                                 Traceback (most recent call last)",
      "Cell \u001b[1;32mIn[18], line 1\u001b[0m\n\u001b[1;32m----> 1\u001b[0m \u001b[43mprofile\u001b[49m\u001b[38;5;241m.\u001b[39mto_file(\u001b[38;5;124m\"\u001b[39m\u001b[38;5;124moutput.html\u001b[39m\u001b[38;5;124m\"\u001b[39m)\n",
      "\u001b[1;31mNameError\u001b[0m: name 'profile' is not defined"
     ]
    }
   ],
   "source": [
    "# profile.to_file(\"output.html\")"
   ]
  }
 ],
 "metadata": {
  "kernelspec": {
   "display_name": "Python 3 (ipykernel)",
   "language": "python",
   "name": "python3"
  },
  "language_info": {
   "codemirror_mode": {
    "name": "ipython",
    "version": 3
   },
   "file_extension": ".py",
   "mimetype": "text/x-python",
   "name": "python",
   "nbconvert_exporter": "python",
   "pygments_lexer": "ipython3",
   "version": "3.12.2"
  }
 },
 "nbformat": 4,
 "nbformat_minor": 5
}
