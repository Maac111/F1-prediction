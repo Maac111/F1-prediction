{
 "cells": [
  {
   "cell_type": "markdown",
   "metadata": {},
   "source": [
    "### Tensorflow model"
   ]
  },
  {
   "cell_type": "code",
   "execution_count": 10,
   "metadata": {},
   "outputs": [],
   "source": [
    "import tensorflow as tf\n",
    "from tensorflow.keras import layers, activations, losses, Model, Input\n",
    "from tensorflow.nn import leaky_relu\n",
    "import numpy as np\n",
    "from itertools import combinations\n",
    "from tensorflow.keras.utils import plot_model, Progbar\n",
    "import matplotlib.pyplot as plt\n",
    "from sklearn.model_selection import train_test_split\n",
    "\n",
    "# model architecture\n",
    "class RankNet(Model):\n",
    "    def __init__(self):\n",
    "        super().__init__()\n",
    "        self.dense = [layers.Dense(16, activation=leaky_relu), layers.Dense(8, activation=leaky_relu)]\n",
    "        self.o = layers.Dense(1, activation='linear')\n",
    "        self.oi_minus_oj = layers.Subtract()\n",
    "    \n",
    "    def call(self, inputs):\n",
    "        xi, xj = inputs\n",
    "        densei = self.dense[0](xi)\n",
    "        densej = self.dense[0](xj)\n",
    "        for dense in self.dense[1:]:\n",
    "            densei = dense(densei)\n",
    "            densej = dense(densej)\n",
    "        oi = self.o(densei)\n",
    "        oj= self.o(densej)\n",
    "        oij = self.oi_minus_oj([oi, oj])\n",
    "        output = layers.Activation('sigmoid')(oij)\n",
    "        return output\n",
    "    \n",
    "    def build_graph(self):\n",
    "        x = [Input(shape=(10)), Input(shape=(10))]\n",
    "        return Model(inputs=x, outputs=self.call(x))\n",
    "    \n",
    "def plot_metrics(train_metric, val_metric=None, metric_name=None, title=None, ylim=5):\n",
    "    plt.title(title)\n",
    "    plt.ylim(0,ylim)\n",
    "    plt.plot(train_metric,color='blue',label=metric_name)\n",
    "    if val_metric is not None: plt.plot(val_metric,color='green',label='val_' + metric_name)\n",
    "    plt.legend(loc=\"upper right\")\n",
    "    \n",
    "def predict_ranking(model, docks):\n",
    "    \"\"\"\n",
    "    Predict the ranking of docks using a trained RankNet model.\n",
    "    \n",
    "    Args:\n",
    "        model (RankNet): A trained RankNet model.\n",
    "        docks (np.array): A 2D numpy array where each row represents a dock's features.\n",
    "    \n",
    "    Returns:\n",
    "        np.array: A NumPy array representing the predicted ranking of docks.\n",
    "    \"\"\"\n",
    "    # Number of docks\n",
    "    n_docks = docks.shape[0]\n",
    "    \n",
    "    # Generate all pairs of docks\n",
    "    dock_indices = np.arange(n_docks)\n",
    "    dock_pairs = np.array(list(combinations(dock_indices, 2)))\n",
    "    \n",
    "    # Prepare input arrays for model prediction\n",
    "    xi = docks[dock_pairs[:, 0]]\n",
    "    xj = docks[dock_pairs[:, 1]]\n",
    "    \n",
    "    # Predict pairwise preferences\n",
    "    pairwise_preds = model.predict([xi, xj])\n",
    "    \n",
    "    # Initialize score array\n",
    "    scores = np.zeros(n_docks)\n",
    "    \n",
    "    # Aggregate pairwise predictions into scores\n",
    "    for (i, j), pred in zip(dock_pairs, pairwise_preds):\n",
    "        if pred > 0.5:  # i is preferred over j\n",
    "            scores[i] += 1\n",
    "        else:           # j is preferred over i\n",
    "            scores[j] += 1\n",
    "    \n",
    "    # Sort docks by their scores in descending order\n",
    "    ranked_indices = np.argsort(-scores)  # Descending order\n",
    "    \n",
    "    return ranked_indices"
   ]
  },
  {
   "cell_type": "code",
   "execution_count": 11,
   "metadata": {},
   "outputs": [],
   "source": [
    "\n",
    "# generate data\n",
    "nb_query = 20\n",
    "query = np.array([i+1 for i in range(nb_query) for x in range(int(np.ceil(np.abs(np.random.normal(0,scale=15))+2)))])\n",
    "doc_features = np.random.random((len(query), 10))\n",
    "doc_scores = np.random.randint(5, size=len(query)).astype(np.float32)\n",
    "\n",
    "# put data into pairs\n",
    "xi = []\n",
    "xj = []\n",
    "pij = []\n",
    "pair_id = []\n",
    "pair_query_id = []\n",
    "for q in np.unique(query):\n",
    "    query_idx = np.where(query == q)[0]\n",
    "    for pair_idx in combinations(query_idx, 2):\n",
    "        pair_query_id.append(q)\n",
    "        \n",
    "        pair_id.append(pair_idx)\n",
    "        i = pair_idx[0]\n",
    "        j = pair_idx[1]\n",
    "        xi.append(doc_features[i])\n",
    "        xj.append(doc_features[j])\n",
    "        \n",
    "        if doc_scores[i] == doc_scores[j]:\n",
    "            _pij = 0.5\n",
    "        elif doc_scores[i] > doc_scores[j]:\n",
    "            _pij = 1\n",
    "        else: \n",
    "            _pij = 0\n",
    "        pij.append(_pij)\n",
    "        \n",
    "xi = np.array(xi)\n",
    "xj = np.array(xj)\n",
    "pij = np.array(pij)\n",
    "pair_query_id = np.array(pair_query_id)\n",
    "\n",
    "xi_train, xi_test, xj_train, xj_test, pij_train, pij_test, pair_id_train, pair_id_test = train_test_split(\n",
    "    xi, xj, pij, pair_id, test_size=0.2, stratify=pair_query_id)\n"
   ]
  },
  {
   "cell_type": "code",
   "execution_count": 12,
   "metadata": {},
   "outputs": [
    {
     "data": {
      "text/plain": [
       "(1479, 10)"
      ]
     },
     "execution_count": 12,
     "metadata": {},
     "output_type": "execute_result"
    }
   ],
   "source": [
    "xi.shape"
   ]
  },
  {
   "cell_type": "code",
   "execution_count": 13,
   "metadata": {},
   "outputs": [
    {
     "name": "stdout",
     "output_type": "stream",
     "text": [
      "Epoch 1/20\n",
      "\u001b[1m1183/1183\u001b[0m \u001b[32m━━━━━━━━━━━━━━━━━━━━\u001b[0m\u001b[37m\u001b[0m \u001b[1m4s\u001b[0m 2ms/step - loss: 0.6839 - val_loss: 0.6597\n",
      "Epoch 2/20\n",
      "\u001b[1m1183/1183\u001b[0m \u001b[32m━━━━━━━━━━━━━━━━━━━━\u001b[0m\u001b[37m\u001b[0m \u001b[1m2s\u001b[0m 2ms/step - loss: 0.6747 - val_loss: 0.6506\n",
      "Epoch 3/20\n",
      "\u001b[1m1183/1183\u001b[0m \u001b[32m━━━━━━━━━━━━━━━━━━━━\u001b[0m\u001b[37m\u001b[0m \u001b[1m2s\u001b[0m 2ms/step - loss: 0.6758 - val_loss: 0.6440\n",
      "Epoch 4/20\n",
      "\u001b[1m1183/1183\u001b[0m \u001b[32m━━━━━━━━━━━━━━━━━━━━\u001b[0m\u001b[37m\u001b[0m \u001b[1m2s\u001b[0m 2ms/step - loss: 0.6485 - val_loss: 0.6348\n",
      "Epoch 5/20\n",
      "\u001b[1m1183/1183\u001b[0m \u001b[32m━━━━━━━━━━━━━━━━━━━━\u001b[0m\u001b[37m\u001b[0m \u001b[1m2s\u001b[0m 1ms/step - loss: 0.6430 - val_loss: 0.6195\n",
      "Epoch 6/20\n",
      "\u001b[1m1183/1183\u001b[0m \u001b[32m━━━━━━━━━━━━━━━━━━━━\u001b[0m\u001b[37m\u001b[0m \u001b[1m2s\u001b[0m 2ms/step - loss: 0.6218 - val_loss: 0.6106\n",
      "Epoch 7/20\n",
      "\u001b[1m1183/1183\u001b[0m \u001b[32m━━━━━━━━━━━━━━━━━━━━\u001b[0m\u001b[37m\u001b[0m \u001b[1m2s\u001b[0m 2ms/step - loss: 0.6073 - val_loss: 0.5969\n",
      "Epoch 8/20\n",
      "\u001b[1m1183/1183\u001b[0m \u001b[32m━━━━━━━━━━━━━━━━━━━━\u001b[0m\u001b[37m\u001b[0m \u001b[1m2s\u001b[0m 2ms/step - loss: 0.5916 - val_loss: 0.5891\n",
      "Epoch 9/20\n",
      "\u001b[1m1183/1183\u001b[0m \u001b[32m━━━━━━━━━━━━━━━━━━━━\u001b[0m\u001b[37m\u001b[0m \u001b[1m3s\u001b[0m 2ms/step - loss: 0.5819 - val_loss: 0.5726\n",
      "Epoch 10/20\n",
      "\u001b[1m1183/1183\u001b[0m \u001b[32m━━━━━━━━━━━━━━━━━━━━\u001b[0m\u001b[37m\u001b[0m \u001b[1m2s\u001b[0m 2ms/step - loss: 0.5629 - val_loss: 0.5620\n",
      "Epoch 11/20\n",
      "\u001b[1m1183/1183\u001b[0m \u001b[32m━━━━━━━━━━━━━━━━━━━━\u001b[0m\u001b[37m\u001b[0m \u001b[1m2s\u001b[0m 2ms/step - loss: 0.5432 - val_loss: 0.5554\n",
      "Epoch 12/20\n",
      "\u001b[1m1183/1183\u001b[0m \u001b[32m━━━━━━━━━━━━━━━━━━━━\u001b[0m\u001b[37m\u001b[0m \u001b[1m2s\u001b[0m 2ms/step - loss: 0.5510 - val_loss: 0.5591\n",
      "Epoch 13/20\n",
      "\u001b[1m1183/1183\u001b[0m \u001b[32m━━━━━━━━━━━━━━━━━━━━\u001b[0m\u001b[37m\u001b[0m \u001b[1m2s\u001b[0m 2ms/step - loss: 0.5413 - val_loss: 0.5510\n",
      "Epoch 14/20\n",
      "\u001b[1m1183/1183\u001b[0m \u001b[32m━━━━━━━━━━━━━━━━━━━━\u001b[0m\u001b[37m\u001b[0m \u001b[1m3s\u001b[0m 2ms/step - loss: 0.5033 - val_loss: 0.5604\n",
      "Epoch 15/20\n",
      "\u001b[1m1183/1183\u001b[0m \u001b[32m━━━━━━━━━━━━━━━━━━━━\u001b[0m\u001b[37m\u001b[0m \u001b[1m2s\u001b[0m 2ms/step - loss: 0.5014 - val_loss: 0.5555\n",
      "Epoch 16/20\n",
      "\u001b[1m1183/1183\u001b[0m \u001b[32m━━━━━━━━━━━━━━━━━━━━\u001b[0m\u001b[37m\u001b[0m \u001b[1m2s\u001b[0m 2ms/step - loss: 0.5190 - val_loss: 0.5350\n",
      "Epoch 17/20\n",
      "\u001b[1m1183/1183\u001b[0m \u001b[32m━━━━━━━━━━━━━━━━━━━━\u001b[0m\u001b[37m\u001b[0m \u001b[1m2s\u001b[0m 2ms/step - loss: 0.4974 - val_loss: 0.5302\n",
      "Epoch 18/20\n",
      "\u001b[1m1183/1183\u001b[0m \u001b[32m━━━━━━━━━━━━━━━━━━━━\u001b[0m\u001b[37m\u001b[0m \u001b[1m2s\u001b[0m 2ms/step - loss: 0.4968 - val_loss: 0.5211\n",
      "Epoch 19/20\n",
      "\u001b[1m1183/1183\u001b[0m \u001b[32m━━━━━━━━━━━━━━━━━━━━\u001b[0m\u001b[37m\u001b[0m \u001b[1m2s\u001b[0m 2ms/step - loss: 0.4970 - val_loss: 0.5161\n",
      "Epoch 20/20\n",
      "\u001b[1m1183/1183\u001b[0m \u001b[32m━━━━━━━━━━━━━━━━━━━━\u001b[0m\u001b[37m\u001b[0m \u001b[1m2s\u001b[0m 2ms/step - loss: 0.4729 - val_loss: 0.5303\n"
     ]
    }
   ],
   "source": [
    "# train model using compile and fit\n",
    "ranknet = RankNet()\n",
    "ranknet.compile(optimizer='adam', loss='binary_crossentropy')\n",
    "history = ranknet.fit([xi_train, xj_train], pij_train, epochs=20, batch_size=1, validation_data=([xi_test, xj_test], pij_test))"
   ]
  },
  {
   "cell_type": "code",
   "execution_count": 14,
   "metadata": {},
   "outputs": [
    {
     "data": {
      "image/png": "[encoded data removed]",
      "text/plain": [
       "<Figure size 640x480 with 1 Axes>"
      ]
     },
     "metadata": {},
     "output_type": "display_data"
    }
   ],
   "source": [
    "# plot loss history\n",
    "plot_metrics(history.history['loss'], history.history['val_loss'], \"Loss\", \"Loss\", ylim=1.0)"
   ]
  },
  {
   "cell_type": "code",
   "execution_count": 22,
   "metadata": {},
   "outputs": [
    {
     "name": "stdout",
     "output_type": "stream",
     "text": [
      "\u001b[1m1/1\u001b[0m \u001b[32m━━━━━━━━━━━━━━━━━━━━\u001b[0m\u001b[37m\u001b[0m \u001b[1m0s\u001b[0m 38ms/step\n"
     ]
    },
    {
     "data": {
      "text/plain": [
       "array([[0.8308945]], dtype=float32)"
      ]
     },
     "execution_count": 22,
     "metadata": {},
     "output_type": "execute_result"
    }
   ],
   "source": [
    "import pandas as pd\n",
    "\n",
    "docks = np.random.rand(10, 10) \n",
    "\n",
    "n_docks = docks.shape[0]\n",
    "\n",
    "# Generate all pairs of docks\n",
    "dock_indices = np.arange(n_docks)\n",
    "dock_pairs = np.array(list(combinations(dock_indices, 2)))\n",
    "\n",
    "# Prepare input arrays for model prediction\n",
    "xi1 = docks[dock_pairs[0:1, 0]]\n",
    "xj2 = docks[dock_pairs[0:1, 1]]\n",
    "\n",
    "# Predict pairwise preferences\n",
    "pairwise_preds = ranknet.predict([xi1, xj2])\n",
    "\n",
    "# pairwise_preds = ranknet.predict([docks[1], docks[2]])\n",
    "\n",
    "# df_results = pd.DataFrame(columns = [\"data\", \"pred\"])\n",
    "\n",
    "# for q in np.unique(query):\n",
    "#     query_idx = np.where(query == q)[0]\n",
    "#     ranking = predict_ranking(ranknet, doc_features[query_idx])\n",
    "#     comparison = np.stack((ranking, doc_scores[query_idx]), axis = 1)\n",
    "#     temp = pd.DataFrame(comparison, columns = [\"data\", \"pred\"])\n",
    "#     df_results = pd.concat((df_results, temp))\n",
    "\n",
    "pairwise_preds"
   ]
  },
  {
   "cell_type": "code",
   "execution_count": null,
   "metadata": {},
   "outputs": [],
   "source": [
    "df_results.to_excel(\"results.xlsx\")"
   ]
  },
  {
   "cell_type": "code",
   "execution_count": 24,
   "metadata": {},
   "outputs": [
    {
     "data": {
      "text/plain": [
       "array([[0.98714026, 0.84109486, 0.52613459, 0.55088681, 0.39183347,\n",
       "        0.32946889, 0.72804014, 0.12054921, 0.50518656, 0.97684971]])"
      ]
     },
     "execution_count": 24,
     "metadata": {},
     "output_type": "execute_result"
    }
   ],
   "source": [
    "xi1"
   ]
  }
 ],
 "metadata": {
  "kernelspec": {
   "display_name": "Python 3",
   "language": "python",
   "name": "python3"
  },
  "language_info": {
   "codemirror_mode": {
    "name": "ipython",
    "version": 3
   },
   "file_extension": ".py",
   "mimetype": "text/x-python",
   "name": "python",
   "nbconvert_exporter": "python",
   "pygments_lexer": "ipython3",
   "version": "3.12.2"
  }
 },
 "nbformat": 4,
 "nbformat_minor": 2
}
